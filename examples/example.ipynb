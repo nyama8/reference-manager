{
 "cells": [
  {
   "cell_type": "code",
   "execution_count": 1,
   "metadata": {},
   "outputs": [],
   "source": [
    "import reference as rf"
   ]
  },
  {
   "cell_type": "markdown",
   "metadata": {},
   "source": [
    "### Journal article Reference from URL\n",
    "\n",
    "Example of Reference creation via html link:"
   ]
  },
  {
   "cell_type": "code",
   "execution_count": 2,
   "metadata": {},
   "outputs": [
    {
     "name": "stdout",
     "output_type": "stream",
     "text": [
      "Accessing URL...\n",
      "Page accessed.\n",
      "\n",
      "Journal reference found.\n"
     ]
    }
   ],
   "source": [
    "url = 'https://www.nature.com/articles/nphoton.2014.304'\n",
    "\n",
    "# The ref_name should be match to the object instance name\n",
    "ref_name = 'LiuX2015'\n",
    "\n",
    "LiuX2015 = rf.reference_from_url(ref_name, url)"
   ]
  },
  {
   "cell_type": "markdown",
   "metadata": {},
   "source": [
    "Accessing reference metadata:"
   ]
  },
  {
   "cell_type": "code",
   "execution_count": 3,
   "metadata": {
    "scrolled": true
   },
   "outputs": [
    {
     "data": {
      "text/plain": [
       "'LiuX2015'"
      ]
     },
     "execution_count": 3,
     "metadata": {},
     "output_type": "execute_result"
    }
   ],
   "source": [
    "LiuX2015.name"
   ]
  },
  {
   "cell_type": "code",
   "execution_count": 4,
   "metadata": {},
   "outputs": [
    {
     "data": {
      "text/plain": [
       "'Strong light–matter coupling in two-dimensional atomic crystals'"
      ]
     },
     "execution_count": 4,
     "metadata": {},
     "output_type": "execute_result"
    }
   ],
   "source": [
    "LiuX2015.title"
   ]
  },
  {
   "cell_type": "code",
   "execution_count": 5,
   "metadata": {},
   "outputs": [
    {
     "data": {
      "text/plain": [
       "[('Xiaoze', '', 'Liu'),\n",
       " ('Tal', '', 'Galfsky'),\n",
       " ('Zheng', '', 'Sun'),\n",
       " ('Fengnian', '', 'Xia'),\n",
       " ('Erh-chen', '', 'Lin'),\n",
       " ('Yi-Hsien', '', 'Lee'),\n",
       " ('Stéphane', '', 'Kéna-Cohen'),\n",
       " ('Vinod', 'M.', 'Menon')]"
      ]
     },
     "execution_count": 5,
     "metadata": {},
     "output_type": "execute_result"
    }
   ],
   "source": [
    "LiuX2015.authors"
   ]
  },
  {
   "cell_type": "code",
   "execution_count": 6,
   "metadata": {},
   "outputs": [
    {
     "name": "stdout",
     "output_type": "stream",
     "text": [
      "@article{LiuX2015,\n",
      "\tauthor  = \"Xiaoze Liu and Tal Galfsky and Zheng Sun and Fengnian Xia and Erh-chen Lin and Yi-Hsien Lee and Stéphane Kéna-Cohen and Vinod M. Menon\",\n",
      "\ttitle   = \"Strong light–matter coupling in two-dimensional atomic crystals\",\n",
      "\tyear    = \"2015\",\n",
      "\tmonth   = \"Jan.\",\n",
      "\tjounral = \"Nature Photonics\",\n",
      "\tvolume  = \"9\",\n",
      "\tnumber  = \"1\",\n",
      "\tpages   = \"30--34\"\n",
      "}\n"
     ]
    }
   ],
   "source": [
    "print(LiuX2015.generate_bibtex())"
   ]
  },
  {
   "cell_type": "markdown",
   "metadata": {},
   "source": [
    "### Conference paper Reference from URL\n",
    "\n",
    "Example of Reference with conference paper:"
   ]
  },
  {
   "cell_type": "code",
   "execution_count": 7,
   "metadata": {},
   "outputs": [
    {
     "name": "stdout",
     "output_type": "stream",
     "text": [
      "Accessing URL...\n",
      "Page accessed.\n",
      "\n",
      "Conference reference found.\n"
     ]
    }
   ],
   "source": [
    "url = 'https://www.osapublishing.org/abstract.cfm?URI=CLEO_QELS-2019-FM4D.2'\n",
    "\n",
    "GuddalaS2019 = rf.reference_from_url('GuddalaS2019', url)"
   ]
  },
  {
   "cell_type": "code",
   "execution_count": 8,
   "metadata": {},
   "outputs": [
    {
     "data": {
      "text/plain": [
       "'Optical valley-Hall effect of 2D excitons'"
      ]
     },
     "execution_count": 8,
     "metadata": {},
     "output_type": "execute_result"
    }
   ],
   "source": [
    "GuddalaS2019.title"
   ]
  },
  {
   "cell_type": "code",
   "execution_count": 9,
   "metadata": {
    "scrolled": true
   },
   "outputs": [
    {
     "data": {
      "text/plain": [
       "[('Sriram', '', 'Guddala'),\n",
       " ('Mandeep', '', 'Khatoniar'),\n",
       " ('Nicholas', '', 'Yama'),\n",
       " ('Vinod', 'M.', 'Menon')]"
      ]
     },
     "execution_count": 9,
     "metadata": {},
     "output_type": "execute_result"
    }
   ],
   "source": [
    "GuddalaS2019.authors"
   ]
  },
  {
   "cell_type": "markdown",
   "metadata": {},
   "source": [
    "### ArXiv Reference from URL\n",
    "\n",
    "Example of Reference with ArXiv preprint:"
   ]
  },
  {
   "cell_type": "code",
   "execution_count": 10,
   "metadata": {},
   "outputs": [
    {
     "name": "stdout",
     "output_type": "stream",
     "text": [
      "Accessing URL...\n",
      "Page accessed.\n",
      "\n",
      "ArXiv reference found.\n"
     ]
    }
   ],
   "source": [
    "url = 'https://arxiv.org/abs/2008.00166'\n",
    "\n",
    "GuddalaS2020 = rf.reference_from_url('GuddalaS2020', url)"
   ]
  },
  {
   "cell_type": "code",
   "execution_count": 11,
   "metadata": {},
   "outputs": [
    {
     "data": {
      "text/plain": [
       "'Optical Valley Hall Effect of 2D Excitons in Hyperbolic Metamaterial'"
      ]
     },
     "execution_count": 11,
     "metadata": {},
     "output_type": "execute_result"
    }
   ],
   "source": [
    "GuddalaS2020.title"
   ]
  },
  {
   "cell_type": "code",
   "execution_count": 12,
   "metadata": {},
   "outputs": [
    {
     "data": {
      "text/plain": [
       "[('Guddala,', '', 'Sriram'),\n",
       " ('Khatoniar,', '', 'Mandeep'),\n",
       " ('Yama,', '', 'Nicholas'),\n",
       " ('Liu,', '', 'W.'),\n",
       " ('Agarwal,', 'G.', 'S.'),\n",
       " ('Menon,', 'Vinod', 'M.')]"
      ]
     },
     "execution_count": 12,
     "metadata": {},
     "output_type": "execute_result"
    }
   ],
   "source": [
    "GuddalaS2020.authors"
   ]
  },
  {
   "cell_type": "code",
   "execution_count": 13,
   "metadata": {},
   "outputs": [
    {
     "data": {
      "text/plain": [
       "'2008.00166'"
      ]
     },
     "execution_count": 13,
     "metadata": {},
     "output_type": "execute_result"
    }
   ],
   "source": [
    "GuddalaS2020.arxiv_id"
   ]
  },
  {
   "cell_type": "markdown",
   "metadata": {},
   "source": [
    "### Reference from HTML source file\n",
    "\n",
    "Some journal webpages block access via python scripts or require javascript to read. In such cases the html source can be directly downloaded from the site via a browser and imported locally."
   ]
  },
  {
   "cell_type": "code",
   "execution_count": 14,
   "metadata": {},
   "outputs": [
    {
     "name": "stdout",
     "output_type": "stream",
     "text": [
      "Journal reference found.\n"
     ]
    }
   ],
   "source": [
    "SasakiK2017 = rf.reference_from_src('SasakiK2017', 'sample_from_aip.htm', path='')"
   ]
  },
  {
   "cell_type": "code",
   "execution_count": 15,
   "metadata": {},
   "outputs": [
    {
     "data": {
      "text/plain": [
       "('2017', 'May', '09')"
      ]
     },
     "execution_count": 15,
     "metadata": {},
     "output_type": "execute_result"
    }
   ],
   "source": [
    "SasakiK2017.pub_date"
   ]
  },
  {
   "cell_type": "code",
   "execution_count": 16,
   "metadata": {},
   "outputs": [
    {
     "name": "stdout",
     "output_type": "stream",
     "text": [
      "@article{SasakiK2017,\n",
      "\tauthor  = \"Kento Sasaki and Ed E. Kleinsasser and Zhouyang Zhu and Wen-Di Li and Hideyuki Watanabe and Kai-Mei C. Fu and Kohei M. Itoh and Eisuke Abe\",\n",
      "\ttitle   = \"Dynamic nuclear polarization enhanced magnetic field sensitivity and decoherence spectroscopy of an ensemble of near-surface nitrogen-vacancy centers in diamond\",\n",
      "\tyear    = \"2017\",\n",
      "\tmonth   = \"May\",\n",
      "\tjounral = \"Applied Physics Letters\",\n",
      "\tvolume  = \"110\",\n",
      "\tnumber  = \"19\",\n",
      "\tpages   = \"192407\"\n",
      "}\n"
     ]
    }
   ],
   "source": [
    "print(SasakiK2017.generate_bibtex())"
   ]
  }
 ],
 "metadata": {
  "kernelspec": {
   "display_name": "Python 3",
   "language": "python",
   "name": "python3"
  },
  "language_info": {
   "codemirror_mode": {
    "name": "ipython",
    "version": 3
   },
   "file_extension": ".py",
   "mimetype": "text/x-python",
   "name": "python",
   "nbconvert_exporter": "python",
   "pygments_lexer": "ipython3",
   "version": "3.7.4"
  }
 },
 "nbformat": 4,
 "nbformat_minor": 2
}
